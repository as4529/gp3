{
 "cells": [
  {
   "cell_type": "markdown",
   "metadata": {},
   "source": [
    "This notebook provides basic examples of how to use gp3. Use NBViewer to view the notebook [here](https://nbviewer.jupyter.org/github/as4529/gp3/blob/master/examples/basic.ipynb?flush_cache=true)."
   ]
  },
  {
   "cell_type": "code",
   "execution_count": 1,
   "metadata": {
    "collapsed": false
   },
   "outputs": [
    {
     "data": {
      "text/html": [
       "<script>requirejs.config({paths: { 'plotly': ['https://cdn.plot.ly/plotly-latest.min']},});if(!window.Plotly) {{require(['plotly'],function(plotly) {window.Plotly=plotly;});}}</script>"
      ],
      "text/vnd.plotly.v1+html": [
       "<script>requirejs.config({paths: { 'plotly': ['https://cdn.plot.ly/plotly-latest.min']},});if(!window.Plotly) {{require(['plotly'],function(plotly) {window.Plotly=plotly;});}}</script>"
      ]
     },
     "metadata": {},
     "output_type": "display_data"
    }
   ],
   "source": [
    "import sys\n",
    "sys.path.insert(0,'..')\n",
    "from gp3.inference.svi import MFSVI\n",
    "from gp3.inference.laplace import Laplace\n",
    "from gp3.likelihoods.likelihoods import Poisson\n",
    "from gp3.utils import data as sim\n",
    "from gp3.utils.transforms import softplus, inv_softplus\n",
    "from gp3.kernels.kernels import RBF\n",
    "from plotly.offline import download_plotlyjs, init_notebook_mode, plot, iplot\n",
    "import plotly.graph_objs as go\n",
    "from plotly import tools\n",
    "from IPython.display import display\n",
    "init_notebook_mode(connected=True)\n",
    "import warnings\n",
    "warnings.filterwarnings('ignore')\n",
    "from tqdm import trange\n",
    "import numpy as np"
   ]
  },
  {
   "cell_type": "markdown",
   "metadata": {},
   "source": [
    "## Data Simulation"
   ]
  },
  {
   "cell_type": "markdown",
   "metadata": {},
   "source": [
    "First, let's simulate some data on an equispaced grid. We will do this in 2D for sake of visualization. We simulate from the following model\n",
    "\n",
    "$$ f \\sim \\mathcal{GP}(\\mu(\\cdot), K(\\cdot, \\cdot))$$\n",
    "$$y_i \\sim \\text{Poisson}(f(x_i) + \\epsilon) $$\n",
    "\n",
    "where $\\epsilon \\sim \\mathcal{N}(0, 1)$. We can ignore the \"inv_softplus\" link below. It's for kernel learning (which is in progress).\n"
   ]
  },
  {
   "cell_type": "code",
   "execution_count": null,
   "metadata": {
    "collapsed": false
   },
   "outputs": [],
   "source": [
    "X = sim.sim_X_equispaced(D = 2, N_dim = 20, lower=0, upper=100)\n",
    "f = sim.sim_f(X, RBF(40., 1., 0.5), mu = 5.)\n",
    "y = sim.poisson_draw(f, 1.) "
   ]
  },
  {
   "cell_type": "code",
   "execution_count": null,
   "metadata": {
    "collapsed": false
   },
   "outputs": [],
   "source": [
    "trace_func = go.Scatter3d(x = X[:,0], y = X[:,1], z=f, mode = 'markers', marker=dict(size = 2,))\n",
    "trace_draws = go.Scatter3d(x = X[:,0], y = X[:,1], z=y, mode = 'markers', marker=dict(size = 2,))\n",
    "fig = tools.make_subplots(rows=1, cols=2, specs=[[{'is_3d': True}, {'is_3d': True}]])\n",
    "fig.append_trace(trace_func, 1, 1)\n",
    "fig.append_trace(trace_draws, 1, 2)\n",
    "iplot(fig)"
   ]
  },
  {
   "cell_type": "markdown",
   "metadata": {},
   "source": [
    "## Inference"
   ]
  },
  {
   "cell_type": "markdown",
   "metadata": {},
   "source": [
    "Now, we run inference using both the SVI method and the Laplace method."
   ]
  },
  {
   "cell_type": "code",
   "execution_count": null,
   "metadata": {
    "collapsed": false
   },
   "outputs": [],
   "source": [
    "inf_svi = MFSVI(RBF(40., 1.), Poisson(), X, y)\n",
    "inf_lp = Laplace(RBF(40., 1.), Poisson(), X, y)\n",
    "inf_svi.run(2000)\n",
    "inf_lp.run(20)"
   ]
  },
  {
   "cell_type": "markdown",
   "metadata": {},
   "source": [
    "Here, we make predictions and plot the inferred functions."
   ]
  },
  {
   "cell_type": "code",
   "execution_count": null,
   "metadata": {
    "collapsed": false
   },
   "outputs": [],
   "source": [
    "pred_svi = inf_svi.predict()\n",
    "pred_lp = inf_lp.f_pred\n",
    "\n",
    "trace_svi = go.Scatter3d(x = X[:,0], y = X[:,1], z=pred_svi, mode = 'markers', marker=dict(size = 2,), name = 'SVI posterior mean')\n",
    "trace_lp = go.Scatter3d(x = X[:,0], y = X[:,1], z=pred_lp, mode = 'markers', marker=dict(size = 2,), name = 'Laplace posterior mean')\n",
    "fig = tools.make_subplots(rows=1, cols=2, specs=[[{'is_3d': True}, {'is_3d': True}]])\n",
    "fig.append_trace(trace_svi, 1, 1)\n",
    "fig.append_trace(trace_lp, 1, 2)\n",
    "iplot(fig)"
   ]
  },
  {
   "cell_type": "markdown",
   "metadata": {},
   "source": [
    "To get the predictive variances, we do the following. For the SVI method, we already have them calculated. We use covariance estimation with Gaussian perturbations for the Laplace method, where the parameter indicates the number of samples to estimate based on. See \"Massively Scalable GPs\" for more on this method.\""
   ]
  },
  {
   "cell_type": "code",
   "execution_count": null,
   "metadata": {
    "collapsed": false
   },
   "outputs": [],
   "source": [
    "svi_variances = np.exp(inf_svi.q_S)\n",
    "lp_variances = inf_lp.variance(50)\n",
    "\n",
    "var_svi = go.Scatter3d(x = X[:,0], y = X[:,1], z=svi_variances, mode = 'markers', marker=dict(size = 2,), name = 'SVI posterior variances')\n",
    "var_lp = go.Scatter3d(x = X[:,0], y = X[:,1], z=lp_variances, mode = 'markers', marker=dict(size = 2,), name = 'Laplace posterior variances')\n",
    "fig = tools.make_subplots(rows=1, cols=2, specs=[[{'is_3d': True}, {'is_3d': True}]])\n",
    "fig.append_trace(var_svi, 1, 1)\n",
    "fig.append_trace(var_lp, 1, 2)\n",
    "iplot(fig)"
   ]
  },
  {
   "cell_type": "markdown",
   "metadata": {},
   "source": [
    "For SVI, we can look at the values of the variational objective, likelihood, and KL terms as a function of iteration."
   ]
  },
  {
   "cell_type": "code",
   "execution_count": null,
   "metadata": {
    "collapsed": false
   },
   "outputs": [],
   "source": [
    "iplot([go.Scatter(x = np.array(range(len(inf_svi.elbos)))*50, y = inf_svi.elbos)])"
   ]
  },
  {
   "cell_type": "markdown",
   "metadata": {},
   "source": [
    "## Partial Grids"
   ]
  },
  {
   "cell_type": "markdown",
   "metadata": {},
   "source": [
    "Here, we take a sample of 25 percent of the above grid to \"observe\""
   ]
  },
  {
   "cell_type": "code",
   "execution_count": null,
   "metadata": {
    "collapsed": false
   },
   "outputs": [],
   "source": [
    "X_part, y_part = sim.rand_partial_grid(X, y, 0.2)\n",
    "X_full, y_full, obs_idx, imag_idx = sim.fill_grid(X_part, y_part)\n",
    "\n",
    "color = np.zeros(X_full.shape[0])\n",
    "color[obs_idx] = 1.0\n",
    "trace_partial_obs = go.Scatter3d(x = X_full[obs_idx, 0], y = X_full[obs_idx, 1],\n",
    "                                 z= y[obs_idx], mode = 'markers', marker=dict(size = 2))\n",
    "iplot([trace_partial_obs])"
   ]
  },
  {
   "cell_type": "markdown",
   "metadata": {},
   "source": [
    "We can run inference on partial grids by passing in the locations of the full grid, the indices of the observed points, and the values of y at the observed locations."
   ]
  },
  {
   "cell_type": "code",
   "execution_count": null,
   "metadata": {
    "collapsed": false
   },
   "outputs": [],
   "source": [
    "inf_svi = MFSVI(RBF(40., 1.), Poisson(), X, y_part, obs_idx = obs_idx)\n",
    "inf_lp = Laplace(RBF(40., 1.), Poisson(), X, y_part, obs_idx = obs_idx)\n",
    "inf_svi.run(5000, n_samples = 1)\n",
    "inf_lp.run(10)"
   ]
  },
  {
   "cell_type": "markdown",
   "metadata": {},
   "source": [
    "We can make predictions of the entire function below."
   ]
  },
  {
   "cell_type": "code",
   "execution_count": null,
   "metadata": {
    "collapsed": false,
    "scrolled": true
   },
   "outputs": [],
   "source": [
    "pred_svi = inf_svi.predict()\n",
    "pred_lp = inf_lp.f_pred\n",
    "\n",
    "trace_svi = go.Scatter3d(x = X[:,0], y = X[:,1], z=pred_svi, mode = 'markers', marker=dict(size = 2, color = color), name = \"SVI partial grid posterior mean\")\n",
    "trace_lp = go.Scatter3d(x = X[:,0], y = X[:,1], z=pred_lp, mode = 'markers', marker=dict(size = 2, color = color), name = \"Laplace partial grid posterior mean\")\n",
    "fig = tools.make_subplots(rows=1, cols=2, specs=[[{'is_3d': True}, {'is_3d': True}]])\n",
    "fig.append_trace(trace_svi, 1, 1)\n",
    "fig.append_trace(trace_lp, 1, 2)\n",
    "iplot(fig)"
   ]
  },
  {
   "cell_type": "markdown",
   "metadata": {},
   "source": [
    "We can get predictive variances in the same way as the full grid case."
   ]
  },
  {
   "cell_type": "code",
   "execution_count": null,
   "metadata": {
    "collapsed": false,
    "scrolled": true
   },
   "outputs": [],
   "source": [
    "svi_variances = softplus(inf_svi.q_S)\n",
    "lp_variances = inf_lp.variance(50)\n",
    "\n",
    "var_svi = go.Scatter3d(x = X[:,0], y = X[:,1], z=svi_variances, mode = 'markers', marker=dict(size = 2, color = color))\n",
    "var_lp = go.Scatter3d(x = X[:,0], y = X[:,1], z=lp_variances, mode = 'markers', marker=dict(size = 2, color = color))\n",
    "fig = tools.make_subplots(rows=1, cols=2, specs=[[{'is_3d': True}, {'is_3d': True}]])\n",
    "fig.append_trace(var_svi, 1, 1)\n",
    "fig.append_trace(var_lp, 1, 2)\n",
    "iplot(fig)"
   ]
  },
  {
   "cell_type": "code",
   "execution_count": null,
   "metadata": {
    "collapsed": false
   },
   "outputs": [],
   "source": [
    "iplot([go.Scatter(x = range(len(inf_svi.elbos)), y = inf_svi.elbos)])"
   ]
  }
 ],
 "metadata": {
  "kernelspec": {
   "display_name": "Python 2",
   "language": "python",
   "name": "python2"
  },
  "language_info": {
   "codemirror_mode": {
    "name": "ipython",
    "version": 2
   },
   "file_extension": ".py",
   "mimetype": "text/x-python",
   "name": "python",
   "nbconvert_exporter": "python",
   "pygments_lexer": "ipython2",
   "version": "2.7.13"
  }
 },
 "nbformat": 4,
 "nbformat_minor": 2
}
