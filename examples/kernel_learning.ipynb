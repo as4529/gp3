{
 "cells": [
  {
   "cell_type": "markdown",
   "metadata": {},
   "source": [
    "This notebook is an (in progress) example of kernel optimization using SVI in gp3. Use NBViewer to view the notebook [here](https://nbviewer.jupyter.org/github/as4529/gp3/blob/master/examples/kernel_learning.ipynb?flush_cache=true). "
   ]
  },
  {
   "cell_type": "code",
   "execution_count": null,
   "metadata": {
    "collapsed": false
   },
   "outputs": [],
   "source": [
    "import sys\n",
    "sys.path.insert(0,'..')\n",
    "from gp3.inference.svi import MFSVI\n",
    "from gp3.inference.laplace import Laplace\n",
    "from gp3.likelihoods.likelihoods import Poisson\n",
    "from gp3.utils import data as sim\n",
    "from gp3.kernels.kernels import RBF\n",
    "from gp3.utils.transforms import softplus, inv_softplus\n",
    "from plotly.offline import download_plotlyjs, init_notebook_mode, plot, iplot\n",
    "import plotly.graph_objs as go\n",
    "from plotly import tools\n",
    "from IPython.display import display\n",
    "init_notebook_mode(connected=True)\n",
    "import warnings\n",
    "warnings.filterwarnings('ignore')\n",
    "from tqdm import trange\n",
    "import numpy as np\n",
    "from scipy.special import expit"
   ]
  },
  {
   "cell_type": "markdown",
   "metadata": {},
   "source": [
    "First, we simulate some data from a GP with an RBF kernel."
   ]
  },
  {
   "cell_type": "code",
   "execution_count": null,
   "metadata": {
    "collapsed": false,
    "scrolled": false
   },
   "outputs": [],
   "source": [
    "X = sim.sim_X_equispaced(D = 2, N_dim = 20, lower=0, upper=100)\n",
    "f = sim.sim_f(X, RBF(inv_softplus(np.array([50., 1.0]))), mu = 4.)\n",
    "y = sim.poisson_draw(f, 0.0) \n",
    "\n",
    "trace_func = go.Scatter3d(x = X[:,0], y = X[:,1], z=f, mode = 'markers', marker=dict(size = 2,))\n",
    "trace_draws = go.Scatter3d(x = X[:,0], y = X[:,1], z=y, mode = 'markers', marker=dict(size = 2,))\n",
    "fig = tools.make_subplots(rows=1, cols=2, specs=[[{'is_3d': True}, {'is_3d': True}]])\n",
    "fig.append_trace(trace_func, 1, 1)\n",
    "fig.append_trace(trace_draws, 1, 2)\n",
    "iplot(fig)"
   ]
  },
  {
   "cell_type": "markdown",
   "metadata": {},
   "source": [
    "Now, we set the \"opt_kernel\" parameter for the mean field SVI inference to True, so that we optimize over our base kernel hyperparameters as we optimize the ELBO. This is currently very sensitive to initialization. Addressing this sensitivity is my current priority. Also note that (as expected) there is around a 5x slowdown when we are learning the kernel as opposed to keeping it fixed."
   ]
  },
  {
   "cell_type": "code",
   "execution_count": null,
   "metadata": {
    "collapsed": false
   },
   "outputs": [],
   "source": [
    "inf_svi = MFSVI(RBF(inv_softplus(np.array([10., 1.]))), Poisson(), X, y, opt_kernel = True)\n",
    "inf_svi.run(2000)"
   ]
  },
  {
   "cell_type": "markdown",
   "metadata": {},
   "source": [
    "## Results"
   ]
  },
  {
   "cell_type": "markdown",
   "metadata": {},
   "source": [
    "Plotting posterior mean and variances"
   ]
  },
  {
   "cell_type": "code",
   "execution_count": null,
   "metadata": {
    "collapsed": false,
    "scrolled": true
   },
   "outputs": [],
   "source": [
    "iplot([go.Scatter3d(x = X[:,0], y = X[:,1], z=inf_svi.predict(), mode = 'markers', marker=dict(size = 2,))])\n",
    "iplot([go.Scatter3d(x = X[:,0], y = X[:,1], z=np.exp(inf_svi.q_S), mode = 'markers', marker=dict(size = 2,))])"
   ]
  },
  {
   "cell_type": "code",
   "execution_count": null,
   "metadata": {
    "collapsed": false,
    "scrolled": true
   },
   "outputs": [],
   "source": [
    "iplot([go.Scatter(x = range(len(inf_svi.elbos)), y = inf_svi.elbos)])"
   ]
  },
  {
   "cell_type": "code",
   "execution_count": null,
   "metadata": {
    "collapsed": false
   },
   "outputs": [],
   "source": [
    "inf_svi.kernel.params"
   ]
  }
 ],
 "metadata": {
  "kernelspec": {
   "display_name": "Python 2",
   "language": "python",
   "name": "python2"
  },
  "language_info": {
   "codemirror_mode": {
    "name": "ipython",
    "version": 2
   },
   "file_extension": ".py",
   "mimetype": "text/x-python",
   "name": "python",
   "nbconvert_exporter": "python",
   "pygments_lexer": "ipython2",
   "version": "2.7.13"
  }
 },
 "nbformat": 4,
 "nbformat_minor": 2
}
